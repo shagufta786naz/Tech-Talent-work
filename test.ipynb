{
 "cells": [
  {
   "cell_type": "code",
   "execution_count": 1,
   "metadata": {},
   "outputs": [
    {
     "name": "stdout",
     "output_type": "stream",
     "text": [
      "hello world\n"
     ]
    }
   ],
   "source": [
    "print(\"hello world\")\n"
   ]
  },
  {
   "cell_type": "code",
   "execution_count": 2,
   "metadata": {},
   "outputs": [],
   "source": [
    "user_name=\"naz\"\n",
    "UserName=7"
   ]
  },
  {
   "cell_type": "code",
   "execution_count": 3,
   "metadata": {},
   "outputs": [
    {
     "name": "stdout",
     "output_type": "stream",
     "text": [
      "naz\n"
     ]
    }
   ],
   "source": [
    "print(user_name)"
   ]
  },
  {
   "cell_type": "code",
   "execution_count": 4,
   "metadata": {},
   "outputs": [
    {
     "name": "stdout",
     "output_type": "stream",
     "text": [
      "7\n"
     ]
    }
   ],
   "source": [
    "print(UserName)"
   ]
  },
  {
   "cell_type": "code",
   "execution_count": 5,
   "metadata": {},
   "outputs": [],
   "source": [
    "user_input=\"whatis your first name\""
   ]
  },
  {
   "cell_type": "code",
   "execution_count": 8,
   "metadata": {},
   "outputs": [
    {
     "name": "stdout",
     "output_type": "stream",
     "text": [
      "what is your first name? what is your suname?\n"
     ]
    }
   ],
   "source": [
    "user_input_first_name=(\"what is your first name?\")\n",
    "user_input_surname=(\"what is your suname?\")\n",
    "print(user_input_first_name,user_input_surname)"
   ]
  },
  {
   "cell_type": "code",
   "execution_count": 15,
   "metadata": {},
   "outputs": [],
   "source": [
    "user_name=(\"shagufta\")\n",
    "favourte_number=7"
   ]
  },
  {
   "cell_type": "code",
   "execution_count": 53,
   "metadata": {},
   "outputs": [
    {
     "name": "stdout",
     "output_type": "stream",
     "text": [
      "shagufta 32 5.3 True\n"
     ]
    }
   ],
   "source": [
    "user_name=(\"shagufta\")\n",
    "age=int(32)\n",
    "height=float(5.3)\n",
    "female=bool(\"true\")\n",
    "print(user_name,age,height,female)"
   ]
  },
  {
   "cell_type": "code",
   "execution_count": 31,
   "metadata": {},
   "outputs": [
    {
     "name": "stdout",
     "output_type": "stream",
     "text": [
      "shagufta\n"
     ]
    }
   ],
   "source": [
    "user_input=input(\"what is your name?\")\n",
    "print(user_input)"
   ]
  },
  {
   "cell_type": "code",
   "execution_count": 52,
   "metadata": {},
   "outputs": [
    {
     "name": "stdout",
     "output_type": "stream",
     "text": [
      "your favourite meal is chiops as a starter rice as a main kheer as a desert with a glass of coke as a drink\n"
     ]
    }
   ],
   "source": [
    "\"\"\"task 1 \n",
    "\n",
    "create a program that allow user to write their favourite starter,main,desert and drink\"\"\"\n",
    "\n",
    "\n",
    "starter=input(\"what is your favourite starter?\")\n",
    "main=input(\"what is your favourite main course?\")\n",
    "desert=input(\"what is your favourite desert?\")\n",
    "drink=input(\"what is your favourite drink?\")\n",
    "print(\"your favourite meal is\",starter,\"as a starter\",main,\"as a main\",desert,\"as a desert\",\"with a glass of\",drink,\"as a drink\")\n"
   ]
  },
  {
   "cell_type": "code",
   "execution_count": 57,
   "metadata": {},
   "outputs": [
    {
     "name": "stdout",
     "output_type": "stream",
     "text": [
      "10\n",
      "200\n",
      "2.0\n"
     ]
    }
   ],
   "source": [
    "\"\"\"task 2 \n",
    "\n",
    "create 3 program to do 3 calculations,+,-,*\"\"\"\n",
    "\n",
    "number1=int(input(\"first number\"))\n",
    "number2=int(input(\"second number\"))\n",
    "print(number1-number2)\n",
    "\n",
    "\n",
    "number1=int(input(\"first number\"))\n",
    "number2=int(input(\"second number\"))\n",
    "print(number1*number2)\n",
    "\n",
    "number1=int(input(\"first number\"))\n",
    "number2=int(input(\"second number\"))\n",
    "print(number1/number2)"
   ]
  },
  {
   "cell_type": "code",
   "execution_count": 62,
   "metadata": {},
   "outputs": [
    {
     "name": "stdout",
     "output_type": "stream",
     "text": [
      "what do you call a bear with no teath? \n",
      "a gummy bear\n"
     ]
    }
   ],
   "source": [
    "\"\"\"task 3 \n",
    "\n",
    "write a joke\"\"\"\n",
    "\n",
    "joke=\"what do you call a bear with no teath?\"\" \\na gummy bear\"\n",
    "print(joke)"
   ]
  },
  {
   "cell_type": "code",
   "execution_count": 63,
   "metadata": {},
   "outputs": [
    {
     "name": "stdout",
     "output_type": "stream",
     "text": [
      "150\n",
      "150.0\n"
     ]
    }
   ],
   "source": [
    "\"\"\"task 4\n",
    "\n",
    "multiply and show the answer\"\"\"\n",
    "\n",
    "number1=int(input(\"first number\"))\n",
    "number2=int(input(\"second number\"))\n",
    "answer=(number1*number2)\n",
    "print(int(answer))\n",
    "print(float(answer))"
   ]
  },
  {
   "cell_type": "code",
   "execution_count": 65,
   "metadata": {},
   "outputs": [
    {
     "name": "stdout",
     "output_type": "stream",
     "text": [
      "hello my name is shagufta\n",
      "HI MY NAME IS SHAGUFTA\n",
      "['', ' my name is shagufta']\n"
     ]
    }
   ],
   "source": [
    "\"\"\"task 5\n",
    "\n",
    "modify string\"\"\"\n",
    "\n",
    "string=(\"hi my name is shagufta\")\n",
    "print(string.replace(\"hi\",\"hello\"))\n",
    "print(string.upper())\n",
    "print(string.split(\"hi\"))"
   ]
  },
  {
   "cell_type": "code",
   "execution_count": 67,
   "metadata": {},
   "outputs": [
    {
     "name": "stdout",
     "output_type": "stream",
     "text": [
      "3000 30 100.0\n",
      "each person should pay 100.0\n"
     ]
    }
   ],
   "source": [
    "\"\"\"extention\n",
    "\n",
    "ask for total bill,how many dinners,divide bill by number of dinners and print how much each person should pay\"\"\"\n",
    "bill=int(input(\"how much is total bill?\"))\n",
    "diner=int(input(\"how many dinners are there?\"))\n",
    "answer=(bill/diner)\n",
    "print(bill,diner,answer)\n",
    "print(\"each person should pay\",answer)"
   ]
  },
  {
   "cell_type": "code",
   "execution_count": 69,
   "metadata": {},
   "outputs": [
    {
     "ename": "NameError",
     "evalue": "name 'Math' is not defined",
     "output_type": "error",
     "traceback": [
      "\u001b[0;31m---------------------------------------------------------------------------\u001b[0m",
      "\u001b[0;31mNameError\u001b[0m                                 Traceback (most recent call last)",
      "Cell \u001b[0;32mIn[69], line 7\u001b[0m\n\u001b[1;32m      5\u001b[0m radius \u001b[39m=\u001b[39m \u001b[39mfloat\u001b[39m(\u001b[39minput\u001b[39m(\u001b[39m\"\u001b[39m\u001b[39mEnter the radius of the cylinder\u001b[39m\u001b[39m\"\u001b[39m))\n\u001b[1;32m      6\u001b[0m depth \u001b[39m=\u001b[39m \u001b[39mfloat\u001b[39m(\u001b[39minput\u001b[39m(\u001b[39m\"\u001b[39m\u001b[39mEnter the depth of the cylinder\u001b[39m\u001b[39m\"\u001b[39m))\n\u001b[0;32m----> 7\u001b[0m volume \u001b[39m=\u001b[39mMath\u001b[39m.\u001b[39mpi\u001b[39m*\u001b[39m\u001b[39mpow\u001b[39m(radius,\u001b[39m2\u001b[39m)\u001b[39m*\u001b[39mdepth \u001b[39m# = pie * radius * radius * depth\u001b[39;00m\n\u001b[1;32m      8\u001b[0m rounded_answer \u001b[39m=\u001b[39m \u001b[39mround\u001b[39m(volume,\u001b[39m3\u001b[39m) \u001b[39m# rounding to 3 decimal place\u001b[39;00m\n\u001b[1;32m      9\u001b[0m \u001b[39mprint\u001b[39m(\u001b[39m\"\u001b[39m\u001b[39mThe volume of the cylinder =\u001b[39m\u001b[39m\"\u001b[39m,rounded_answer)\n",
      "\u001b[0;31mNameError\u001b[0m: name 'Math' is not defined"
     ]
    }
   ],
   "source": [
    "\"\"\"extention\n",
    "ask for radious,depth of a cylinder,workout total volume (circle area*depth) rounded to 3 decimal places.\n",
    "(you need to import the math library and look up the function for rounding decimals)\"\"\"\n",
    "\n",
    "radius = float(input(\"Enter the radius of the cylinder\"))\n",
    "depth = float(input(\"Enter the depth of the cylinder\"))\n",
    "volume =math.pi*pow(radius,2)*depth # = pie * radius * radius * depth\n",
    "rounded_answer = round(volume,3) # rounding to 3 decimal place\n",
    "print(\"The volume of the cylinder =\",rounded_answer)"
   ]
  },
  {
   "cell_type": "code",
   "execution_count": 76,
   "metadata": {},
   "outputs": [
    {
     "name": "stdout",
     "output_type": "stream",
     "text": [
      "True\n",
      "thank you\n"
     ]
    }
   ],
   "source": [
    "\"\"\"week 6 python 2\n",
    "\n",
    "task 1\n",
    "\n",
    "write a program that allows user to enter 2 numbers,and operator and then completes the calculation.\n",
    "pick number 1\n",
    "pick number 2\n",
    "pick operator\n",
    "create an if statement to carry out the math operation\"\"\"\n",
    "\n",
    "x=10\n",
    "y=20\n",
    "print(x<y)\n",
    "\n",
    "if (x<y):\n",
    " print(\"thank you\")\n",
    "else:\n",
    " print(\"try again\")"
   ]
  },
  {
   "cell_type": "code",
   "execution_count": 84,
   "metadata": {},
   "outputs": [
    {
     "name": "stdout",
     "output_type": "stream",
     "text": [
      "A guy goes in for a job interview and sits down with the boss.\n"
     ]
    }
   ],
   "source": [
    "\"\"\"task 2 \n",
    "write a program that asks a user for their number between 1 and 100 and then tells them a joke based on their number\n",
    "use minimum 3 jokes\n",
    "pick a number\n",
    "create an if statement\"\"\"\n",
    "\n",
    "num=int(input(\"enter your favourite number between 1 and 100\"))\n",
    "if num >30:\n",
    "    print(\"A guy goes in for a job interview and sits down with the boss.\")\n",
    "elif num <20:\n",
    "    print(\"The boss asks him, “What do you think is your worst quality?\")\n",
    "elif num >10:\n",
    "    print(\"The man replies, I dont care about what you think!\")\n",
    "elif num>40:\n",
    "    print(\"Team work is important; it helps to put the blame on someone else.\")\n",
    "else:\n",
    "    print(\"thank you for your effort\")"
   ]
  },
  {
   "cell_type": "code",
   "execution_count": 98,
   "metadata": {},
   "outputs": [
    {
     "name": "stdout",
     "output_type": "stream",
     "text": [
      "wellcome to nothern frock\n",
      "7\n",
      "money has been withdrawn 200 \n",
      " new balance \n",
      " mainmenu\n",
      "100 \n",
      " mainmenu\n"
     ]
    }
   ],
   "source": [
    "\"\"\"task 3\n",
    "write a program that stimulate the behaviour of an ATM.\n",
    "\n",
    "\n",
    "(1) print main menu\n",
    "\n",
    "(2) prompt the user to enter an option\n",
    "\n",
    "\n",
    "(3) if 1 is entered,display the current balance and return to main menu\n",
    "\n",
    "(4) if 2 is entered,print a sub menu with withdrawal amounts enter an option\n",
    "\n",
    "(5) if 1 to 6 is selected,check that the requested withdrawal is allowed,print a message to show that the money has been withdrawn,\n",
    "calculate the new balance and returned to main menu.\n",
    "\n",
    "(6) if 7 is selected then prompt the user for an integer value.check this number is a multiple of 10 \n",
    "and the withdrawal is permitted,\n",
    "print a message to show that money has been withdrawn,calculate the new balance and return to main menu\n",
    "\n",
    "\n",
    "(7) if 3 is entered, provide another menu that allow the user to enter an amount to deposit,return to main menu or return card,\n",
    "if funds are deposited, provide appropriate feedback and update the new balance and return to main menu.\n",
    "\n",
    "\n",
    "(8) if 9 is entered, print a goodbye message and exit\n",
    "\n",
    "\n",
    "(9) if another value is entered, print an error message and print the main menu.\n",
    "\"\"\"\n",
    "mainmenu=str(\"wellcome to nothern frock\")\n",
    "print(mainmenu)\n",
    "num=int(input(\"enter a number\"))\n",
    "print(num)\n",
    "if num==1:\n",
    " print(\"display the current balance\", \"\\nmain menu\")\n",
    " if num==2:\n",
    "      print(\"sub menu\",\"\\n withdrawal amount\")\n",
    "if num==1 and num==6:\n",
    "    print(\"requested withdrawal is allowed\",\"\\n money has been withdrawn\",\"\\n count new balance\",\"\\n mainmenu\")\n",
    "if num==7:\n",
    "    amount1=int(input(\"enter number\"))\n",
    "    print(\"money has been withdrawn\",amount1,\"\\n new balance\",\"\\n mainmenu\")\n",
    "      \n",
    "if num==3:\n",
    "    amount2=int(input(\"enter number\"))\n",
    "print(amount2,\"\\n mainmenu\"or\"\\n return card\")\n",
    "    \n",
    "if num==9:\n",
    "        print(\"goodbye\",\"\\n exit\")\n",
    "    \n"
   ]
  },
  {
   "cell_type": "code",
   "execution_count": 126,
   "metadata": {},
   "outputs": [
    {
     "name": "stdout",
     "output_type": "stream",
     "text": [
      "('cherry', 'apple', 'banana', 'kivi', 'peach')\n",
      "banana\n",
      "{'grapes', 'prune', 'melon', 'pear'}\n",
      "{'apple': '£2perkg', 'pear': '£3perkg', 'banana': '£4perkg', 'grapes': '£5perkg'}\n",
      "£4perkg\n",
      "banana\n"
     ]
    }
   ],
   "source": [
    "\"\"\"task 4\n",
    "1:\n",
    "\n",
    "make a list of 3 fruits\n",
    "output all the fruits in the list\n",
    "output the second fruit in the list\"\"\"\n",
    "fruit_salad=(\"cherry\",\"apple\",\"banana\",\"kivi\",\"peach\")\n",
    "print(fruit_salad)\n",
    "print(fruit_salad[2])\n",
    "\n",
    "\"\"\"2\n",
    "\n",
    "create a set of 3 fruits\n",
    "\n",
    "output all the fruits in the set\n",
    "\n",
    "add a new fruit to the set\n",
    "\n",
    "output all the fruits in the set\n",
    "\n",
    "try to add a repeat of a fruit in the set\n",
    "\n",
    "output all the fruits in the set\"\"\"\n",
    "\n",
    "fruits={\"pear\",\"prune\",\"grapes\",\"melon\",\"melon\"}\n",
    "print(fruits)\n",
    "\n",
    "\n",
    "\"\"\"3\n",
    "\n",
    "create a dictionary of 3 fruits with the corresponding price\n",
    "\n",
    "output all the fruits in the dictionary\n",
    "\n",
    "output the price of 2nd fruit in the dictionary\n",
    "\n",
    "for a given fruit output its price if its in a dictionary or a message if its not in the list\"\"\"\n",
    "\n",
    "\n",
    "organic_fruits={\"apple\":\"£2perkg\",\n",
    "                \"pear\":\"£3perkg\",\n",
    "                \"banana\":\"£4perkg\",\n",
    "                \"grapes\":\"£5perkg\"}\n",
    "print(organic_fruits)\n",
    "print(organic_fruits[\"banana\"])\n",
    "if{\"banana\":\"£4perkg\"}:\n",
    " print(\"banana\")\n",
    "else: \n",
    " print(\"not in the list\")\n",
    "\n",
    "\n",
    "\n",
    "\n",
    "\n",
    "\n"
   ]
  },
  {
   "cell_type": "code",
   "execution_count": 125,
   "metadata": {},
   "outputs": [
    {
     "name": "stdout",
     "output_type": "stream",
     "text": [
      "£2perkg\n",
      "banana\n"
     ]
    }
   ],
   "source": [
    "organic_fruits={\"apple\":\"£2perkg\"}\n",
    "print(organic_fruits[\"apple\"])\n",
    "if{\"banana\":\"£4perkg\"}:\n",
    " print(\"banana\")\n",
    "else: \n",
    " print(\"not in the list\")\n"
   ]
  },
  {
   "cell_type": "code",
   "execution_count": 114,
   "metadata": {},
   "outputs": [
    {
     "name": "stdout",
     "output_type": "stream",
     "text": [
      "{'apple': '£2perkg', 'pear': '£3perkg', 'banana': '£4perkg', 'grapes': '£5perkg'}\n",
      "£4perkg\n"
     ]
    }
   ],
   "source": [
    "organic_fruits={\"apple\":\"£2perkg\",\"pear\":\"£3perkg\",\"banana\":\"£4perkg\",\"grapes\":\"£5perkg\"}\n",
    "print(organic_fruits)\n",
    "print(organic_fruits[\"banana\"])\n"
   ]
  },
  {
   "cell_type": "code",
   "execution_count": 5,
   "metadata": {},
   "outputs": [
    {
     "name": "stdout",
     "output_type": "stream",
     "text": [
      "value 2000 year 0\n",
      "value 1800.0 year 1\n",
      "value 1620.0 year 2\n",
      "value 1458.0 year 3\n",
      "value 1312.2 year 4\n",
      "value 1180.98 year 5\n",
      "value 1062.882 year 6\n"
     ]
    }
   ],
   "source": [
    "\"\"\" week 7 python 3\"\"\"\n",
    "\"\"\"task 1\"\"\"\n",
    "\"\"\" a bike cost £2000 and loses its value by 10% every year.using a while loop print the value of bike every year whilst the value is greater then 1000\"\"\"\n",
    "year=0\n",
    "value=2000\n",
    "while value>1000:\n",
    "    print(\"value\",value,\"year\",year)\n",
    "    year=year+1\n",
    "    value= value * 0.9\n",
    "    \n",
    "    "
   ]
  },
  {
   "cell_type": "code",
   "execution_count": 12,
   "metadata": {},
   "outputs": [
    {
     "name": "stdout",
     "output_type": "stream",
     "text": [
      "a\n",
      "u\n",
      "d\n",
      "i\n",
      "o\n",
      "there are 4 vowels in audio\n"
     ]
    }
   ],
   "source": [
    "\"\"\"task 2\"\"\"\n",
    "\"\"\"write a program that iterate through a word and count the number of vowels\"\"\"\n",
    "\n",
    "call_type=input(\"write call type\")\n",
    "vowel_count=0\n",
    "for x in call_type:\n",
    " print(x)\n",
    " if x==\"o\":\n",
    "     print(\"there are 4 vowels in audio\")"
   ]
  },
  {
   "cell_type": "code",
   "execution_count": 41,
   "metadata": {},
   "outputs": [
    {
     "name": "stdout",
     "output_type": "stream",
     "text": [
      "Volume is 8\n"
     ]
    }
   ],
   "source": [
    "\"\"\"task 3\"\"\"\n",
    "\"\"\"write a program that include a procedure to multiply 3 numbers together and output the result\"\"\"\n",
    "\n",
    "def volume(width,depth,height):\n",
    "    volume = int(width* depth* height)\n",
    "    return volume\n",
    "    \n",
    "width  = int(input(\"write width\"))\n",
    "depth  = int(input(\"write depth\"))\n",
    "height =int(input(\"write height\"))\n",
    "\n",
    "print(\"Volume is\",volume(width,depth,height))\n",
    "    \n",
    "    \n"
   ]
  },
  {
   "cell_type": "code",
   "execution_count": 43,
   "metadata": {},
   "outputs": [],
   "source": [
    "import math"
   ]
  },
  {
   "cell_type": "code",
   "execution_count": 48,
   "metadata": {},
   "outputs": [],
   "source": [
    "\"\"\"task 4\"\"\"\n",
    "\"\"\" write a program that calculate the lengths of sides of a triangle using pythagoras`s theorem\"\"\"\n",
    "\n",
    "def calculate_a(b,c):\n",
    " a=math.sqrt(b**2-c**2)\n",
    " return a\n",
    "def calculate_b(a,c):\n",
    "    b=math.sqrt(a**2-c**2)\n",
    "    return b\n",
    "def calculate_c(a,b):\n",
    "    c=math.sqrt(a**2+b**2)\n",
    "    return c"
   ]
  },
  {
   "cell_type": "code",
   "execution_count": 3,
   "metadata": {},
   "outputs": [
    {
     "name": "stdout",
     "output_type": "stream",
     "text": [
      "Collecting numpy\n",
      "  Downloading numpy-1.24.1-cp311-cp311-macosx_11_0_arm64.whl (13.8 MB)\n",
      "\u001b[2K     \u001b[90m━━━━━━━━━━━━━━━━━━━━━━━━━━━━━━━━━━━━━━━━\u001b[0m \u001b[32m13.8/13.8 MB\u001b[0m \u001b[31m32.8 MB/s\u001b[0m eta \u001b[36m0:00:00\u001b[0m00:01\u001b[0m00:01\u001b[0m\n",
      "\u001b[?25hInstalling collected packages: numpy\n",
      "Successfully installed numpy-1.24.1\n",
      "\n",
      "\u001b[1m[\u001b[0m\u001b[34;49mnotice\u001b[0m\u001b[1;39;49m]\u001b[0m\u001b[39;49m A new release of pip available: \u001b[0m\u001b[31;49m22.3\u001b[0m\u001b[39;49m -> \u001b[0m\u001b[32;49m22.3.1\u001b[0m\n",
      "\u001b[1m[\u001b[0m\u001b[34;49mnotice\u001b[0m\u001b[1;39;49m]\u001b[0m\u001b[39;49m To update, run: \u001b[0m\u001b[32;49mpip3 install --upgrade pip\u001b[0m\n",
      "Note: you may need to restart the kernel to use updated packages.\n"
     ]
    }
   ],
   "source": [
    "pip install numpy"
   ]
  },
  {
   "cell_type": "code",
   "execution_count": 42,
   "metadata": {},
   "outputs": [
    {
     "name": "stdout",
     "output_type": "stream",
     "text": [
      "Collecting scipy\n",
      "  Downloading scipy-1.10.0-cp311-cp311-macosx_12_0_arm64.whl (28.7 MB)\n",
      "\u001b[2K     \u001b[90m━━━━━━━━━━━━━━━━━━━━━━━━━━━━━━━━━━━━━━━━\u001b[0m \u001b[32m28.7/28.7 MB\u001b[0m \u001b[31m6.4 MB/s\u001b[0m eta \u001b[36m0:00:00\u001b[0m00:01\u001b[0m00:01\u001b[0m\n",
      "\u001b[?25hRequirement already satisfied: numpy<1.27.0,>=1.19.5 in /Library/Frameworks/Python.framework/Versions/3.11/lib/python3.11/site-packages (from scipy) (1.24.1)\n",
      "Installing collected packages: scipy\n",
      "Successfully installed scipy-1.10.0\n",
      "\n",
      "\u001b[1m[\u001b[0m\u001b[34;49mnotice\u001b[0m\u001b[1;39;49m]\u001b[0m\u001b[39;49m A new release of pip available: \u001b[0m\u001b[31;49m22.3\u001b[0m\u001b[39;49m -> \u001b[0m\u001b[32;49m22.3.1\u001b[0m\n",
      "\u001b[1m[\u001b[0m\u001b[34;49mnotice\u001b[0m\u001b[1;39;49m]\u001b[0m\u001b[39;49m To update, run: \u001b[0m\u001b[32;49mpip3 install --upgrade pip\u001b[0m\n",
      "Note: you may need to restart the kernel to use updated packages.\n"
     ]
    }
   ],
   "source": [
    "pip install scipy"
   ]
  },
  {
   "cell_type": "code",
   "execution_count": null,
   "metadata": {},
   "outputs": [],
   "source": [
    "list=[1,2,3]\n",
    "print"
   ]
  }
 ],
 "metadata": {
  "kernelspec": {
   "display_name": "Python 3.11.0 64-bit",
   "language": "python",
   "name": "python3"
  },
  "language_info": {
   "codemirror_mode": {
    "name": "ipython",
    "version": 3
   },
   "file_extension": ".py",
   "mimetype": "text/x-python",
   "name": "python",
   "nbconvert_exporter": "python",
   "pygments_lexer": "ipython3",
   "version": "3.11.0"
  },
  "orig_nbformat": 4,
  "vscode": {
   "interpreter": {
    "hash": "aee8b7b246df8f9039afb4144a1f6fd8d2ca17a180786b69acc140d282b71a49"
   }
  }
 },
 "nbformat": 4,
 "nbformat_minor": 2
}
